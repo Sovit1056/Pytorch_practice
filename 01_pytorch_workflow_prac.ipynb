{
  "nbformat": 4,
  "nbformat_minor": 0,
  "metadata": {
    "colab": {
      "provenance": [],
      "toc_visible": true,
      "authorship_tag": "ABX9TyNew+KKFVRSFI0twU9nOfOi",
      "include_colab_link": true
    },
    "kernelspec": {
      "name": "python3",
      "display_name": "Python 3"
    },
    "language_info": {
      "name": "python"
    }
  },
  "cells": [
    {
      "cell_type": "markdown",
      "metadata": {
        "id": "view-in-github",
        "colab_type": "text"
      },
      "source": [
        "<a href=\"https://colab.research.google.com/github/Sovit1056/Pytorch_practice/blob/main/01_pytorch_workflow_prac.ipynb\" target=\"_parent\"><img src=\"https://colab.research.google.com/assets/colab-badge.svg\" alt=\"Open In Colab\"/></a>"
      ]
    },
    {
      "cell_type": "markdown",
      "source": [
        "## 1. PyTorch workflow\n",
        "\n",
        "let's explore a an example pytorch end-to-end workflow.\n",
        "\n",
        "resources:\n",
        "* book version of notebook - https://www.learnpytorch.io/01_pytorch_workflow/\n",
        "* Ask a question - https://github.com/mrdbourke/pytorch-deep-learning/discussions\n"
      ],
      "metadata": {
        "id": "EuzLTHKstxTP"
      }
    },
    {
      "cell_type": "code",
      "source": [
        "# its like creating a dictionary\n",
        "what_are_we_covering= {1: \"data (prepare and load)\",\n",
        "                       2: \"build model\",\n",
        "                       3: \"fitting the model to data (training)\",\n",
        "                       4: \"making predictions and evaluating a model (interence)\",\n",
        "                       5: \"saving and loading a model\",\n",
        "                       6: \"putting it all together\"}\n",
        "what_are_we_covering"
      ],
      "metadata": {
        "colab": {
          "base_uri": "https://localhost:8080/"
        },
        "id": "LHjjI0gIvHNH",
        "outputId": "4c74f168-e0a6-490c-bc15-7f099d54c544"
      },
      "execution_count": 70,
      "outputs": [
        {
          "output_type": "execute_result",
          "data": {
            "text/plain": [
              "{1: 'data (prepare and load)',\n",
              " 2: 'build model',\n",
              " 3: 'fitting the model to data (training)',\n",
              " 4: 'making predictions and evaluating a model (interence)',\n",
              " 5: 'saving and loading a model',\n",
              " 6: 'putting it all together'}"
            ]
          },
          "metadata": {},
          "execution_count": 70
        }
      ]
    },
    {
      "cell_type": "code",
      "source": [
        "import torch\n",
        "from torch import nn #nn contains all of the Pytorch's building blocks for neural network\n",
        "import pandas as pd\n",
        "import matplotlib.pyplot as plt\n",
        "import numpy as np"
      ],
      "metadata": {
        "id": "f_CqIyR7wpwH"
      },
      "execution_count": 71,
      "outputs": []
    },
    {
      "cell_type": "code",
      "source": [
        "torch.__version__"
      ],
      "metadata": {
        "colab": {
          "base_uri": "https://localhost:8080/",
          "height": 35
        },
        "id": "urtoVrk_3PjR",
        "outputId": "570d541c-d66d-4a04-a473-69c55edb731b"
      },
      "execution_count": 72,
      "outputs": [
        {
          "output_type": "execute_result",
          "data": {
            "text/plain": [
              "'2.6.0+cu124'"
            ],
            "application/vnd.google.colaboratory.intrinsic+json": {
              "type": "string"
            }
          },
          "metadata": {},
          "execution_count": 72
        }
      ]
    },
    {
      "cell_type": "markdown",
      "source": [
        "1. Data (preparing and loading)\n",
        "\n",
        "Data can bbe almost anything...... in machine learning\n",
        "\n",
        "* Excel spreadsheet\n",
        "* Image of any kind\n",
        "* videos\n",
        "* audios\n",
        "* DNA\n",
        "* Text\n",
        "\n",
        "Machine Learning is a game of two parts:\n",
        "1. Get data into a numericl representation\n",
        "2. Build a model to learn patterns in that numerical representation.\n",
        "\n",
        "To showcase this, Let's create some known data using the linear regression formula.\n",
        "\n",
        "We'll use a linear formula to make a straight line with known **parameters**\n",
        "\n"
      ],
      "metadata": {
        "id": "8Dh3RfX33bL6"
      }
    },
    {
      "cell_type": "code",
      "source": [
        "# create known parameters\n",
        "\n",
        "weight = 0.7  # weight is b in Y=bX+a\n",
        "bias = 0.3    # bias is a\n",
        "\n",
        "# Create\n",
        "start = 0\n",
        "end = 1\n",
        "step = 0.02\n",
        "X = torch.arange(start, end, step).unsqueeze(dim=1)\n",
        "y = weight * X + bias\n",
        "\n",
        "X, y, len(X), len(y)\n"
      ],
      "metadata": {
        "colab": {
          "base_uri": "https://localhost:8080/"
        },
        "id": "1UBxb0Ta4aIf",
        "outputId": "81c460cd-e000-4cc2-b652-f55052fa3a2f"
      },
      "execution_count": 73,
      "outputs": [
        {
          "output_type": "execute_result",
          "data": {
            "text/plain": [
              "(tensor([[0.0000],\n",
              "         [0.0200],\n",
              "         [0.0400],\n",
              "         [0.0600],\n",
              "         [0.0800],\n",
              "         [0.1000],\n",
              "         [0.1200],\n",
              "         [0.1400],\n",
              "         [0.1600],\n",
              "         [0.1800],\n",
              "         [0.2000],\n",
              "         [0.2200],\n",
              "         [0.2400],\n",
              "         [0.2600],\n",
              "         [0.2800],\n",
              "         [0.3000],\n",
              "         [0.3200],\n",
              "         [0.3400],\n",
              "         [0.3600],\n",
              "         [0.3800],\n",
              "         [0.4000],\n",
              "         [0.4200],\n",
              "         [0.4400],\n",
              "         [0.4600],\n",
              "         [0.4800],\n",
              "         [0.5000],\n",
              "         [0.5200],\n",
              "         [0.5400],\n",
              "         [0.5600],\n",
              "         [0.5800],\n",
              "         [0.6000],\n",
              "         [0.6200],\n",
              "         [0.6400],\n",
              "         [0.6600],\n",
              "         [0.6800],\n",
              "         [0.7000],\n",
              "         [0.7200],\n",
              "         [0.7400],\n",
              "         [0.7600],\n",
              "         [0.7800],\n",
              "         [0.8000],\n",
              "         [0.8200],\n",
              "         [0.8400],\n",
              "         [0.8600],\n",
              "         [0.8800],\n",
              "         [0.9000],\n",
              "         [0.9200],\n",
              "         [0.9400],\n",
              "         [0.9600],\n",
              "         [0.9800]]),\n",
              " tensor([[0.3000],\n",
              "         [0.3140],\n",
              "         [0.3280],\n",
              "         [0.3420],\n",
              "         [0.3560],\n",
              "         [0.3700],\n",
              "         [0.3840],\n",
              "         [0.3980],\n",
              "         [0.4120],\n",
              "         [0.4260],\n",
              "         [0.4400],\n",
              "         [0.4540],\n",
              "         [0.4680],\n",
              "         [0.4820],\n",
              "         [0.4960],\n",
              "         [0.5100],\n",
              "         [0.5240],\n",
              "         [0.5380],\n",
              "         [0.5520],\n",
              "         [0.5660],\n",
              "         [0.5800],\n",
              "         [0.5940],\n",
              "         [0.6080],\n",
              "         [0.6220],\n",
              "         [0.6360],\n",
              "         [0.6500],\n",
              "         [0.6640],\n",
              "         [0.6780],\n",
              "         [0.6920],\n",
              "         [0.7060],\n",
              "         [0.7200],\n",
              "         [0.7340],\n",
              "         [0.7480],\n",
              "         [0.7620],\n",
              "         [0.7760],\n",
              "         [0.7900],\n",
              "         [0.8040],\n",
              "         [0.8180],\n",
              "         [0.8320],\n",
              "         [0.8460],\n",
              "         [0.8600],\n",
              "         [0.8740],\n",
              "         [0.8880],\n",
              "         [0.9020],\n",
              "         [0.9160],\n",
              "         [0.9300],\n",
              "         [0.9440],\n",
              "         [0.9580],\n",
              "         [0.9720],\n",
              "         [0.9860]]),\n",
              " 50,\n",
              " 50)"
            ]
          },
          "metadata": {},
          "execution_count": 73
        }
      ]
    },
    {
      "cell_type": "markdown",
      "source": [
        "### Splitting data into training and test sets ( one of the most important concepts in machine learning in general)\n",
        "\n",
        "**Generalization:** The ability for a machine learning model to perform well on data it hasn't seen before.\n",
        "\n",
        "Let's create a training and test set with our data.\n",
        "Validation sets are created often, but not always."
      ],
      "metadata": {
        "id": "A-NhnUb-6xd_"
      }
    },
    {
      "cell_type": "code",
      "source": [
        "# Create a train/test split\n",
        "train_split = int(0.8* len(X))\n",
        "X_train = X[:train_split] # upto the train_split\n",
        "X_test = X[train_split:]\n",
        "y_train = y[:train_split]\n",
        "y_test = y[train_split:]\n",
        "\n",
        "len(X_train), len(y_train), len(X_test), len(y_test)"
      ],
      "metadata": {
        "colab": {
          "base_uri": "https://localhost:8080/"
        },
        "id": "f9YaXn467lHt",
        "outputId": "c1553905-7452-44e2-d96a-55aadfeb144f"
      },
      "execution_count": 74,
      "outputs": [
        {
          "output_type": "execute_result",
          "data": {
            "text/plain": [
              "(40, 40, 10, 10)"
            ]
          },
          "metadata": {},
          "execution_count": 74
        }
      ]
    },
    {
      "cell_type": "markdown",
      "source": [
        "How might we better visualize our data?\n",
        "\n",
        "This is where the data explorer's motto comes in!\n",
        "\n",
        "\"Visualize, Visualize, Visualize!\"\n"
      ],
      "metadata": {
        "id": "0bxT_TCgqQWE"
      }
    },
    {
      "cell_type": "code",
      "source": [
        "# let create a function for that\n",
        "\n",
        "def plot_predicitions(train_data= X_train,\n",
        "                      train_labels= y_train,\n",
        "                      test_data= X_test,\n",
        "                      test_labels= y_test,\n",
        "                      predictions=None):\n",
        "  \"\"\"\n",
        "  PLots training data, test data and compares predictions\n",
        "  \"\"\"\n",
        "  plt.figure(figsize=(10,7))\n",
        "\n",
        "  # Plot trianing data in blue\n",
        "  plt.scatter(train_data, train_labels, c=\"b\", s=4, label=\"Training data\")\n",
        "\n",
        "  # Plot test data in green\n",
        "  plt.scatter(test_data, test_labels, c=\"g\", s=4, label=\"Testing data\")\n",
        "\n",
        "# Are there predictions?\n",
        "  if predictions is not None:\n",
        "    # Plot predictions in red (predictions in order)\n",
        "    plt.scatter(test_data, predictions, c=\"r\", s=4, label=\"Predictions\")\n",
        "\n",
        " # show the legends\n",
        "  plt.legend(prop={\"size\":14})\n"
      ],
      "metadata": {
        "id": "cMkfrtGsqD3e"
      },
      "execution_count": 75,
      "outputs": []
    },
    {
      "cell_type": "code",
      "source": [
        "plot_predicitions();"
      ],
      "metadata": {
        "colab": {
          "base_uri": "https://localhost:8080/",
          "height": 599
        },
        "id": "jWpeOExxuz4C",
        "outputId": "29b593fc-49d1-4f1b-e879-dcd4129b9095"
      },
      "execution_count": 76,
      "outputs": [
        {
          "output_type": "display_data",
          "data": {
            "text/plain": [
              "<Figure size 1000x700 with 1 Axes>"
            ],
            "image/png": "[encoded data removed]"
          },
          "metadata": {}
        }
      ]
    },
    {
      "cell_type": "markdown",
      "source": [
        "## 2. Buiilding model\n",
        "\n",
        "Our First Pytorch model\n",
        "\n",
        "Because we're going to be building classes throughout the course, So getting familiar with OOP in Python: https://realpython.com/python3-object-oriented-programming/\n",
        "\n",
        "What our model does?\n",
        "* Start with random values (weight and bais)\n",
        "* Look at the training data and adjust the random values to better represent the ideal values( the weight and bias values we used to create the data)\n",
        "\n",
        "How does it do so?\n",
        "\n",
        "Through two main algorithms:\n",
        "1. Gradient descent\n",
        "2. Back propagation\n",
        "\n",
        "i.e keep track the gradients of our weights and bias paramters and then it gone a update them in the combination of 1. and 2."
      ],
      "metadata": {
        "id": "iZPPfyeiqu5B"
      }
    },
    {
      "cell_type": "markdown",
      "source": [
        "**CLASS IMP**"
      ],
      "metadata": {
        "id": "tFTrCWlwtwQt"
      }
    },
    {
      "cell_type": "code",
      "source": [
        "from torch import nn\n",
        "\n",
        "# Create linear regression model class\n",
        "class LinearRegressionModel(nn.Module): # <- almost everything in Pytorch inherits from nn.Module: https://docs.pytorch.org/docs/stable/generated/torch.nn.Module.html\n",
        "  def __init__(self):\n",
        "    super().__init__()\n",
        "    self.weights= nn.Parameter(torch.rand(1,                   # <- start with random weight and try to adjust it to the ideal weight\n",
        "                                          requires_grad=True, # <- can this parameter be updated via gradient descent?\n",
        "                                          dtype=torch.float))\n",
        "    self.bias= nn.Parameter(torch.rand(1,\n",
        "                                      requires_grad=True,\n",
        "                                      dtype=torch.float))\n",
        "\n",
        "    # We don't always define the parameter ourselves; instead, we define a layer or import it.\n",
        "\n",
        "          # For this we can use; linear transform, probing layer, fully connected layer, convolutional layer, etc.\n",
        "\n",
        "          # nn.Linear(in_features=1, out_features=1) i.e.\n",
        "\n",
        "          # self.linear_layer = nn.Linear(in_features=1,  # It is number of input\n",
        "          #                               out_features=1)  # It is output\n",
        "\n",
        "          # def forward(self, x)\n",
        "          # return self.linear_layer(x)\n",
        "\n",
        "          # For different types of layer: https://docs.pytorch.org/docs/stable/nn.html\n",
        "\n",
        "    # Forward method to define the computation in the model\n",
        "\n",
        "  def forward(self, x: torch.Tensor) -> torch.Tensor: #<- \"x\" is the input/training data\n",
        "    return self.weights * x + self.bias # <- this is the model computation with linear regression formula"
      ],
      "metadata": {
        "id": "jD87ML_1q6ah"
      },
      "execution_count": 77,
      "outputs": []
    },
    {
      "cell_type": "markdown",
      "source": [
        "### Pytorch model building esentials\n",
        "\n",
        "* torch.nn - contains all of the buildings for computational graphs (another word for neural networks)\n",
        "* torch.nn.Parameters - what parameter should our model try and learn, often  Pytorch layer from torch.nn will set these or us.\n",
        "* torch.nn.MOdule - THe base class for all neural network modules, if we subclass it, we should overwrite forward().\n",
        "* torch.optim - this where the optimizers in PyTorch live, they will help with gradient descent\n",
        "* def forward() - All nn.Module subclasses require you to overwrite forward(), this method defines what happens in the forward computation\n",
        "\n",
        "Below two are used when we more complicated and complex dataset and also used to load datas:\n",
        "* torch.utils.data.Datasets - Represents a map between key(labels) and sample(features) pairs of our data. Such as image and their associated labels.\n",
        "* torch.utils.data.Dataloader- Creates a Python iterable over a torch Dataset (allows you to iterate over your data).\n",
        "( https://docs.pytorch.org/tutorials/beginner/ptcheat.html)\n",
        "\n",
        "<img src=\"/content/sample_data/Screenshot (234).png\" alt=\"PyTorch Workflow\" width=\"800\">\n",
        "\n"
      ],
      "metadata": {
        "id": "dZL_5G7pz2v1"
      }
    },
    {
      "cell_type": "markdown",
      "source": [
        "torch.manual_seed(42)\n",
        "torch.rand(1)"
      ],
      "metadata": {
        "id": "F8gaWFQy1Rd_"
      }
    },
    {
      "cell_type": "markdown",
      "source": [
        "### Checking the contents of our Pytorch model\n",
        "\n",
        "Now we've created a model, let's see what's inside....\n",
        "\n",
        "So we can check our model parameters or what's inside our model using ' .parameters()."
      ],
      "metadata": {
        "id": "lnKKx7lv1rQN"
      }
    },
    {
      "cell_type": "code",
      "source": [
        "# Create a random seed\n",
        "torch.manual_seed(42)\n",
        "\n",
        "# Create an instance of the model (this is a subclass of nn.module)\n",
        "model_0 = LinearRegressionModel()\n",
        "\n",
        "# Checking the model parameters\n",
        "list(model_0.parameters())"
      ],
      "metadata": {
        "colab": {
          "base_uri": "https://localhost:8080/"
        },
        "id": "R5v2t1te-EPp",
        "outputId": "4bbfbdeb-6d5f-408a-bf07-a61fd2bff710"
      },
      "execution_count": 78,
      "outputs": [
        {
          "output_type": "execute_result",
          "data": {
            "text/plain": [
              "[Parameter containing:\n",
              " tensor([0.8823], requires_grad=True),\n",
              " Parameter containing:\n",
              " tensor([0.9150], requires_grad=True)]"
            ]
          },
          "metadata": {},
          "execution_count": 78
        }
      ]
    },
    {
      "cell_type": "code",
      "source": [
        "# List named Parameter\n",
        "model_0.state_dict()"
      ],
      "metadata": {
        "colab": {
          "base_uri": "https://localhost:8080/"
        },
        "id": "OfaxafNM4rC6",
        "outputId": "c8d42472-a03e-4f6f-c0c6-c2d231e03ef5"
      },
      "execution_count": 79,
      "outputs": [
        {
          "output_type": "execute_result",
          "data": {
            "text/plain": [
              "OrderedDict([('weights', tensor([0.8823])), ('bias', tensor([0.9150]))])"
            ]
          },
          "metadata": {},
          "execution_count": 79
        }
      ]
    },
    {
      "cell_type": "markdown",
      "source": [
        "### Making prediction using **(torch.interference_mode())**\n",
        "\n",
        "To check our model's predicitive power, let's see how well it predicts 'y_test' basd on 'x_test'\n",
        "\n",
        "When we pass data through our model, it;s going to  run it through the orward method."
      ],
      "metadata": {
        "id": "VPjeznlF5BO7"
      }
    },
    {
      "cell_type": "code",
      "source": [
        "# Make prediction with model\n",
        "\n",
        "with torch.inference_mode():  # this disables the tracking of data which will consume less memory and prediction data are generally not tracked\n",
        "  y_preds = model_0(X_test)   # We can use with troch.no_grad() instead of torch.inference_mode()\n",
        "\n",
        "y_preds"
      ],
      "metadata": {
        "colab": {
          "base_uri": "https://localhost:8080/"
        },
        "id": "LvyYHxpm6pVQ",
        "outputId": "b3ba01ed-19d8-4e5d-e170-8f2ec9a283ea"
      },
      "execution_count": 80,
      "outputs": [
        {
          "output_type": "execute_result",
          "data": {
            "text/plain": [
              "tensor([[1.6208],\n",
              "        [1.6385],\n",
              "        [1.6561],\n",
              "        [1.6738],\n",
              "        [1.6914],\n",
              "        [1.7090],\n",
              "        [1.7267],\n",
              "        [1.7443],\n",
              "        [1.7620],\n",
              "        [1.7796]])"
            ]
          },
          "metadata": {},
          "execution_count": 80
        }
      ]
    },
    {
      "cell_type": "code",
      "source": [
        "plot_predicitions(predictions=y_preds)  ## look at the previous code as we have deined the parameter predictions with none and now we have given the"
      ],
      "metadata": {
        "colab": {
          "base_uri": "https://localhost:8080/",
          "height": 599
        },
        "id": "CMaidBsc7hxs",
        "outputId": "df19fc2e-836d-4b8d-8401-11de0826fa38"
      },
      "execution_count": 81,
      "outputs": [
        {
          "output_type": "display_data",
          "data": {
            "text/plain": [
              "<Figure size 1000x700 with 1 Axes>"
            ],
            "image/png": "[encoded data removed]"
          },
          "metadata": {}
        }
      ]
    },
    {
      "cell_type": "markdown",
      "source": [
        "## 3. Train model\n",
        "\n",
        "The whole idea of training is for model move from *unknown* parameters (these may be random) to some *known* parameters.and\n",
        "\n",
        "Or, From a poor representation of the data to a better representation of the data.\n",
        "\n",
        "One way to measure how poor or wrong your models predictions are is to use **Loss Function**.  https://docs.pytorch.org/docs/stable/nn.html#loss-functions\n",
        "\n",
        "* Notes: Loss function may also be called cost function or criterion in different areas.\n",
        "\n",
        "**Loss Function:** A function to measure how wrong your model's predictions are to the ideal outputs, lower is better.\n",
        "\n",
        "**Very Very Very useul:** https://www.learnpytorch.io/01_pytorch_workflow/\n",
        "\n",
        "**Optimizer:** Takes into account the loss of a model and adjust the model's parameters (eg: weight and bias) to improve the loss function.\n",
        "https://docs.pytorch.org/docs/stable/optim.html#optimizer-step\n",
        "\n",
        "And specifically for PyTorch, we need:\n",
        "* A training loop\n",
        "* A testing loop\n",
        "\n",
        "\n"
      ],
      "metadata": {
        "id": "snWomtM2_wXL"
      }
    },
    {
      "cell_type": "code",
      "source": [
        "model_0.state_dict()"
      ],
      "metadata": {
        "colab": {
          "base_uri": "https://localhost:8080/"
        },
        "id": "3L1xNKxzAU9e",
        "outputId": "78305c08-c271-44e9-a67c-c54b23e74e8e"
      },
      "execution_count": 82,
      "outputs": [
        {
          "output_type": "execute_result",
          "data": {
            "text/plain": [
              "OrderedDict([('weights', tensor([0.8823])), ('bias', tensor([0.9150]))])"
            ]
          },
          "metadata": {},
          "execution_count": 82
        }
      ]
    },
    {
      "cell_type": "markdown",
      "source": [
        "The **learning rate (lr)** is a fundamental hyperparameter in training neural networks, including our simple linear regression model. It's a positive floating-point value that controls how much the model's parameters (like weight and bias in our case) are adjusted with respect to the gradient of the loss function during each training step.\n",
        "\n",
        "Think of the training process as trying to find the lowest point in a valley (the point where the loss function is minimized). The optimizer, guided by the gradient (which indicates the steepest direction), takes steps to move towards that lowest point. The learning rate determines the size of these steps.\n",
        "\n",
        "Here's how different learning rates can affect the training:\n",
        "\n",
        "Small Learning Rate:\n",
        "Pros: The optimizer takes small steps, which can lead to a more precise convergence to the minimum of the loss function. It's less likely to overshoot the optimal values.\n",
        "Cons: Training can be very slow because it takes many small steps to reach the minimum. If the learning rate is too small, the training might get stuck in a local minimum or stop prematurely.\n",
        "Large Learning Rate:\n",
        "Pros: The optimizer takes large steps, which can speed up the training process initially. It might also help to escape shallow local minima.\n",
        "Cons: The optimizer might overshoot the minimum of the loss function, causing the loss to fluctuate wildly or even increase. This can prevent the model from converging or result in a suboptimal solution.\n",
        "Finding the Right Learning Rate:\n",
        "\n",
        "Choosing an appropriate learning rate is often an experimental process. It's a balance between training speed and the risk of overshooting or getting stuck. Common strategies include:\n",
        "\n",
        "Learning Rate Schedules: Starting with a larger learning rate and gradually decreasing it during training.\n",
        "Learning Rate Range Test: Training the model for a few epochs with a wide range of learning rates and observing how the loss changes to identify a good range.\n",
        "In our current code, we've set the learning rate to 0.01. This is a common starting point, but you might experiment with different values during the training process to see how it affects the convergence and the final performance of the model.\n",
        "\n",
        "Does this explanation help clarify the role of the learning rate and the impact of using different values?"
      ],
      "metadata": {
        "id": "hKc87jo4S20m"
      }
    },
    {
      "cell_type": "code",
      "source": [
        "# Setup a loss function\n",
        "loss_fn= torch.nn.L1Loss()        # It is used for mean absolute error or we can write our own formula as torch.mean(torch.abs(y_pred-y_test))\n",
        "\n",
        "# Setup an optimizer (Stochastic gradient descent, there are others too)\n",
        "optimizer = torch.optim.SGD(params=model_0.parameters(),\n",
        "                            lr=0.01)  # lr= learning rate = possibly the most important learning hyperparameter; you can set\n"
      ],
      "metadata": {
        "id": "uE7SmoI0Oxie"
      },
      "execution_count": 83,
      "outputs": []
    },
    {
      "cell_type": "markdown",
      "source": [
        "Q: Which loss function and optimizer should I use?\n",
        "A: This is be problem specific. But with experience, we'll get an idea o what works and what doesn't.\n",
        "\n",
        "For instance, for a regression problem(like now), a loss function of nn.L1Loss() and optimizzer like torch.optim.SDG() will suffice.\n",
        "\n",
        "But for a classification problem like cassifiying wheather a photo is of a dog or a cat, we'll likely want to use a loss function of nn.BCELoss() (binary cross entropy loss)."
      ],
      "metadata": {
        "id": "ATi9qQwVT2n9"
      }
    },
    {
      "cell_type": "markdown",
      "source": [
        "### Building a training loop (and a testing loop) in PyTorch\n",
        "\n",
        "A couple of things we need in a training loop:\n",
        "* Loop through the data.\n",
        "* Forward pass (this involves data moving through our model's `forward()` functions) - also called forward propagation\n",
        "* Calculate the loss (compare forward pass predictions to ground truth labels)\n",
        "* Optimizer zero grad\n",
        "* Loss backward - move backward through the network to calculate the gradients of each of the parameters of our model w.r.t the loss (**back propagation**)\n",
        "* Optimizer step -  use the optimizer to adjust our model's parameters to try and improve the loss ( **gradient(grade/slope) descent**)\n"
      ],
      "metadata": {
        "id": "2jlgbuxyVRys"
      }
    },
    {
      "cell_type": "code",
      "source": [
        "with torch.inference_mode():\n",
        "  list(model_0.parameters())"
      ],
      "metadata": {
        "id": "0_4LfOSLMHib"
      },
      "execution_count": 84,
      "outputs": []
    },
    {
      "cell_type": "code",
      "source": [
        "list(model_0.parameters())"
      ],
      "metadata": {
        "colab": {
          "base_uri": "https://localhost:8080/"
        },
        "id": "kd6hr0kGM5I-",
        "outputId": "e6d60cd5-077b-4d39-cf75-34b4fbea051e"
      },
      "execution_count": 85,
      "outputs": [
        {
          "output_type": "execute_result",
          "data": {
            "text/plain": [
              "[Parameter containing:\n",
              " tensor([0.8823], requires_grad=True),\n",
              " Parameter containing:\n",
              " tensor([0.9150], requires_grad=True)]"
            ]
          },
          "metadata": {},
          "execution_count": 85
        }
      ]
    },
    {
      "cell_type": "code",
      "source": [
        "torch.manual_seed(42)\n",
        "\n",
        "# An epoch is one loop through the data...... ( this is a hyperparameter because we've set it ourself)\n",
        "\n",
        "epochs=100 # 1 i.e. loop through one time through the data\n",
        "\n",
        "# Tracking different values\n",
        "epoch_count = []\n",
        "loss_values = []\n",
        "test_loss_values = []\n",
        "\n",
        "### Training\n",
        "# loop through the data\n",
        "\n",
        "for epoch in range(epochs):\n",
        "  # Set the model to training mode\n",
        "  model_0.train()  # train mode in PyTorch sets all parameters that require gradients\n",
        "\n",
        "  # 1. Forward passs\n",
        "  y_pred = model_0(X_train)\n",
        "\n",
        "  # 2. Calculate the loss\n",
        "  loss = loss_fn(y_pred, y_train)\n",
        "\n",
        "  # 3. Optimizer zero grad\n",
        "  optimizer.zero_grad()\n",
        "\n",
        "  # 4. Perform backpropagation on the loss with respect to the parameters of the model\n",
        "  loss.backward()\n",
        "\n",
        "  # 5. Step the optimizer (perform gradient descent)\n",
        "  optimizer.step()  # by default how the optimizer changes will acculumate through the loop.........we have to zero them above in step 3 for the next iteration of the loop.\n",
        "\n",
        "  ### Testing\n",
        "  model_0.eval()    # turns off different settings in the model such as dropout, batch normalization, etc. which are only used during training\n",
        "  with torch.inference_mode():    # trun off gradient tracking\n",
        "    # 1. Do the forward pass on the test data\n",
        "    test_pred = model_0(X_test)\n",
        "\n",
        "    # 2. Calculate the loss\n",
        "    test_loss = loss_fn(test_pred, y_test)\n",
        "\n",
        "    # Print out what is happening\n",
        "    if epoch % 10 == 0:  # print every 10 epochs not to see too many outputs\n",
        "\n",
        "      epoch_count.append(epoch)\n",
        "      loss_values.append(loss)\n",
        "      test_loss_values.append(test_loss)\n",
        "\n",
        "      print(f\"Epoch: {epoch} | Train loss: {loss} | Test loss: {test_loss}\")\n",
        "      # Print out model state_dict()\n",
        "      print(model_0.state_dict())\n",
        "      print()\n",
        "\n",
        "# Print out model state_dict()\n",
        "print(model_0.state_dict())\n",
        "print()\n",
        "plot_predicitions(predictions=y_preds)\n"
      ],
      "metadata": {
        "colab": {
          "base_uri": "https://localhost:8080/",
          "height": 1000
        },
        "id": "JhArqFusXsQe",
        "outputId": "f1099275-e093-41bf-b075-2863cfb97294"
      },
      "execution_count": 86,
      "outputs": [
        {
          "output_type": "stream",
          "name": "stdout",
          "text": [
            "Epoch: 0 | Train loss: 0.6860889196395874 | Test loss: 0.7637526988983154\n",
            "OrderedDict([('weights', tensor([0.8784])), ('bias', tensor([0.9050]))])\n",
            "\n",
            "Epoch: 10 | Train loss: 0.5708791017532349 | Test loss: 0.6290428042411804\n",
            "OrderedDict([('weights', tensor([0.8394])), ('bias', tensor([0.8050]))])\n",
            "\n",
            "Epoch: 20 | Train loss: 0.45566922426223755 | Test loss: 0.4943329691886902\n",
            "OrderedDict([('weights', tensor([0.8004])), ('bias', tensor([0.7050]))])\n",
            "\n",
            "Epoch: 30 | Train loss: 0.34045934677124023 | Test loss: 0.35962313413619995\n",
            "OrderedDict([('weights', tensor([0.7614])), ('bias', tensor([0.6050]))])\n",
            "\n",
            "Epoch: 40 | Train loss: 0.2252494841814041 | Test loss: 0.2249133139848709\n",
            "OrderedDict([('weights', tensor([0.7224])), ('bias', tensor([0.5050]))])\n",
            "\n",
            "Epoch: 50 | Train loss: 0.1100396141409874 | Test loss: 0.09020347893238068\n",
            "OrderedDict([('weights', tensor([0.6834])), ('bias', tensor([0.4050]))])\n",
            "\n",
            "Epoch: 60 | Train loss: 0.009724985808134079 | Test loss: 0.020998019725084305\n",
            "OrderedDict([('weights', tensor([0.6539])), ('bias', tensor([0.3200]))])\n",
            "\n",
            "Epoch: 70 | Train loss: 0.006216754671186209 | Test loss: 0.014099234715104103\n",
            "OrderedDict([('weights', tensor([0.6707])), ('bias', tensor([0.3120]))])\n",
            "\n",
            "Epoch: 80 | Train loss: 0.002788322512060404 | Test loss: 0.005826681852340698\n",
            "OrderedDict([('weights', tensor([0.6878])), ('bias', tensor([0.3050]))])\n",
            "\n",
            "Epoch: 90 | Train loss: 0.007095950655639172 | Test loss: 0.00754010071977973\n",
            "OrderedDict([('weights', tensor([0.6938])), ('bias', tensor([0.2980]))])\n",
            "\n",
            "OrderedDict([('weights', tensor([0.6977])), ('bias', tensor([0.3080]))])\n",
            "\n"
          ]
        },
        {
          "output_type": "display_data",
          "data": {
            "text/plain": [
              "<Figure size 1000x700 with 1 Axes>"
            ],
            "image/png": "[encoded data removed]"
          },
          "metadata": {}
        }
      ]
    },
    {
      "cell_type": "code",
      "source": [
        "with torch.inference_mode():\n",
        "  y_preds_new = model_0(X_test)"
      ],
      "metadata": {
        "id": "UMXrQFbxMG0z"
      },
      "execution_count": 87,
      "outputs": []
    },
    {
      "cell_type": "code",
      "source": [
        "plot_predicitions(predictions=y_preds_new)"
      ],
      "metadata": {
        "colab": {
          "base_uri": "https://localhost:8080/",
          "height": 599
        },
        "id": "4xKe2L4lMYL8",
        "outputId": "4faa01c6-b335-4915-c779-2ecb228aa0e3"
      },
      "execution_count": 88,
      "outputs": [
        {
          "output_type": "display_data",
          "data": {
            "text/plain": [
              "<Figure size 1000x700 with 1 Axes>"
            ],
            "image/png": "[encoded data removed]"
          },
          "metadata": {}
        }
      ]
    },
    {
      "cell_type": "code",
      "source": [
        "# Plot the loss values\n",
        "import numpy as np\n",
        "plt.figure(figsize=(10, 7))\n",
        "plt.plot(epoch_count, torch.tensor(loss_values).numpy(), label=\"Train loss\")    ## convert the loss values to numpy array for plotting\n",
        "plt.plot(epoch_count, torch.tensor(test_loss_values).numpy(), label=\"Test loss\")\n",
        "plt.title(\"Loss values vs Epochs\")\n",
        "plt.xlabel(\"Epochs\")\n",
        "plt.ylabel(\"Loss\")\n",
        "plt.legend(prop={\"size\": 14})"
      ],
      "metadata": {
        "colab": {
          "base_uri": "https://localhost:8080/",
          "height": 658
        },
        "id": "CLGr-KWmdtfC",
        "outputId": "37cce64b-ff54-47c7-ea06-6d29b79f27ea"
      },
      "execution_count": 89,
      "outputs": [
        {
          "output_type": "execute_result",
          "data": {
            "text/plain": [
              "<matplotlib.legend.Legend at 0x7c5ca807fed0>"
            ]
          },
          "metadata": {},
          "execution_count": 89
        },
        {
          "output_type": "display_data",
          "data": {
            "text/plain": [
              "<Figure size 1000x700 with 1 Axes>"
            ],
            "image/png": "[encoded data removed]"
          },
          "metadata": {}
        }
      ]
    },
    {
      "cell_type": "markdown",
      "source": [
        "## 4. Saving and load a model a Pytorch\n",
        "\n",
        "There are three main methos we should know about saving and loading models in PyTorchFileReader\n",
        "\n",
        "1. `torch.save()` - allows you save a Pytorch object in Python's pickle format\n",
        "2. `torch.load()` - allows you load a saved Pytorch object\n",
        "3. ` torch.nn.Module.load_state_dict()` - This allows to load a model's saved state dictionary"
      ],
      "metadata": {
        "id": "cwV-9jmMlAwV"
      }
    },
    {
      "cell_type": "code",
      "source": [
        "# Saving our Pytorch model\n",
        "from pathlib import Path\n",
        "\n",
        "# 1. Create a models directory\n",
        "Model_path = Path(\"models\")                   # At first this,  Creates a Path object pointing to the folder models\n",
        "Model_path.mkdir(parents=True, exist_ok=True) # Creates the folder models if it doesn't already exist\n",
        "\n",
        "# 2. Create model save path\n",
        "Model_Name= \"01_pytorch test saving.pth\"  # .pt or .pth for pytorch file this is file name\n",
        "Model_Save_path = Model_path / Model_Name  # Joins the folder path and file name using / (thanks to pathlib)\n",
        "\n",
        "# 3. Save the model state dict\n",
        "print(f\"Saving model to: {Model_Save_path}\")\n",
        "torch.save(obj=model_0.state_dict(),        # things to store i.e it stores the parameters only but we can save whole file too\n",
        "           f=Model_Save_path)              # file path\n",
        "\n"
      ],
      "metadata": {
        "colab": {
          "base_uri": "https://localhost:8080/"
        },
        "id": "6k6ITlGanDbE",
        "outputId": "48616c36-8c5f-42c6-a495-c026b8ee02e6"
      },
      "execution_count": 90,
      "outputs": [
        {
          "output_type": "stream",
          "name": "stdout",
          "text": [
            "Saving model to: models/01_pytorch test saving.pth\n"
          ]
        }
      ]
    },
    {
      "cell_type": "code",
      "source": [
        "!ls -1 models # This code is !: Runs a shell command (Linux-style command) from inside Python/Colab.\n",
        "                #   ls: Lists the files in a directory (like dir in Windows).\n",
        "                #   -1: Formats the output to one file per line.\n",
        "                #   models: The name of the folder you're listing."
      ],
      "metadata": {
        "colab": {
          "base_uri": "https://localhost:8080/"
        },
        "id": "HIIVWJ9PrAap",
        "outputId": "ce2efd9e-575c-4d62-d4b9-64d09ffaea9f"
      },
      "execution_count": 91,
      "outputs": [
        {
          "output_type": "stream",
          "name": "stdout",
          "text": [
            "'01_pytorch test saving.pth'\n"
          ]
        }
      ]
    },
    {
      "cell_type": "code",
      "source": [
        "# Loading a model now\n",
        "# To load a saved state_dict we have to instantiate a new instance of our model class\n",
        "\n",
        "loaded_model_0 = LinearRegressionModel()\n",
        "print(list(loaded_model_0.parameters()))\n",
        "\n",
        "#Load the sa ved state_dict of model_0 (this will the new instance with updated parameter)\n",
        "loaded_model_0.load_state_dict(torch.load(f=Model_Save_path))\n",
        "print(\" \\nLoaded paramters:\\n\")\n",
        "list(loaded_model_0.parameters())"
      ],
      "metadata": {
        "id": "pYS2bBgjDvIh",
        "colab": {
          "base_uri": "https://localhost:8080/"
        },
        "outputId": "20487a3d-90ba-4730-894e-0c78d69e2559"
      },
      "execution_count": 92,
      "outputs": [
        {
          "output_type": "stream",
          "name": "stdout",
          "text": [
            "[Parameter containing:\n",
            "tensor([0.8823], requires_grad=True), Parameter containing:\n",
            "tensor([0.9150], requires_grad=True)]\n",
            " \n",
            "Loaded paramters:\n",
            "\n"
          ]
        },
        {
          "output_type": "execute_result",
          "data": {
            "text/plain": [
              "[Parameter containing:\n",
              " tensor([0.6977], requires_grad=True),\n",
              " Parameter containing:\n",
              " tensor([0.3080], requires_grad=True)]"
            ]
          },
          "metadata": {},
          "execution_count": 92
        }
      ]
    },
    {
      "cell_type": "code",
      "source": [
        "# Make some predictions with our loaded model\n",
        "loaded_model_0.eval()\n",
        "with torch.inference_mode():\n",
        "  loaded_model_preds = loaded_model_0(X_test)\n",
        "  print(loaded_model_preds)\n",
        "\n"
      ],
      "metadata": {
        "colab": {
          "base_uri": "https://localhost:8080/"
        },
        "id": "hgBN5Aq6OG-J",
        "outputId": "9c717f0c-f647-4bdf-ab52-416341609cf0"
      },
      "execution_count": 93,
      "outputs": [
        {
          "output_type": "stream",
          "name": "stdout",
          "text": [
            "tensor([[0.8661],\n",
            "        [0.8801],\n",
            "        [0.8940],\n",
            "        [0.9080],\n",
            "        [0.9220],\n",
            "        [0.9359],\n",
            "        [0.9499],\n",
            "        [0.9638],\n",
            "        [0.9778],\n",
            "        [0.9917]])\n"
          ]
        }
      ]
    },
    {
      "cell_type": "code",
      "source": [
        "# Compare the loaded model preds with orginal model preds\n",
        "test_pred == loaded_model_preds"
      ],
      "metadata": {
        "colab": {
          "base_uri": "https://localhost:8080/"
        },
        "id": "TfyFyv2_OiGa",
        "outputId": "e5ba9616-a106-4489-a5e8-43bcfb795fec"
      },
      "execution_count": 94,
      "outputs": [
        {
          "output_type": "execute_result",
          "data": {
            "text/plain": [
              "tensor([[True],\n",
              "        [True],\n",
              "        [True],\n",
              "        [True],\n",
              "        [True],\n",
              "        [True],\n",
              "        [True],\n",
              "        [True],\n",
              "        [True],\n",
              "        [True]])"
            ]
          },
          "metadata": {},
          "execution_count": 94
        }
      ]
    },
    {
      "cell_type": "code",
      "source": [],
      "metadata": {
        "id": "OAJcx-nFR1Vx"
      },
      "execution_count": 94,
      "outputs": []
    }
  ]
}