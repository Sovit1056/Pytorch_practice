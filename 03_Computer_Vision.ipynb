{
  "nbformat": 4,
  "nbformat_minor": 0,
  "metadata": {
    "colab": {
      "provenance": [],
      "authorship_tag": "ABX9TyPZ89iTtdzELVWRX6whKtUE",
      "include_colab_link": true
    },
    "kernelspec": {
      "name": "python3",
      "display_name": "Python 3"
    },
    "language_info": {
      "name": "python"
    }
  },
  "cells": [
    {
      "cell_type": "markdown",
      "metadata": {
        "id": "view-in-github",
        "colab_type": "text"
      },
      "source": [
        "<a href=\"https://colab.research.google.com/github/Sovit1056/Pytorch_practice/blob/main/03_Computer_Vision.ipynb\" target=\"_parent\"><img src=\"https://colab.research.google.com/assets/colab-badge.svg\" alt=\"Open In Colab\"/></a>"
      ]
    },
    {
      "cell_type": "markdown",
      "source": [
        "# Pytorch Computer Vision"
      ],
      "metadata": {
        "id": "yzG1v1ryIb0I"
      }
    },
    {
      "cell_type": "markdown",
      "source": [
        "## 0. Computer vision libaries in pytorch\n",
        "\n",
        "| **Topic No.** | **Topic**                                    | **Contents**                                                                                                                                                |\n",
        "| ------------- | -------------------------------------------- | ----------------------------------------------------------------------------------------------------------------------------------------------------------- |\n",
        "| 0             | Computer vision libraries in PyTorch         | PyTorch has a bunch of built-in helpful computer vision libraries, let's check them out.                                                                    |\n",
        "| 1             | Load data                                    | To practice computer vision, we'll start with some images of different pieces of clothing from FashionMNIST.                                                |\n",
        "| 2             | Prepare data                                 | We've got some images, let's load them in with a PyTorch DataLoader so we can use them with our training loop.                                              |\n",
        "| 3             | Model 0: Building a baseline model           | Here we'll create a multi-class classification model to learn patterns in the data, we'll also choose a loss function, optimizer and build a training loop. |\n",
        "| 4             | Making predictions and evaluating model 0    | Let's make some predictions with our baseline model and evaluate them.                                                                                      |\n",
        "| 5             | Setup device agnostic code for future models | It's best practice to write device-agnostic code, so let's set it up.                                                                                       |\n",
        "| 6             | Model 1: Adding non-linearity                | Experimenting is a large part of machine learning, let's try and improve upon our baseline model by adding non-linear layers.                               |\n",
        "| 7             | Model 2: Convolutional Neural Network (CNN)  | Time to get computer vision specific and introduce the powerful convolutional neural network architecture.                                                  |\n",
        "| 8             | Comparing our models                         | We've built three different models, let's compare them.                                                                                                     |\n",
        "| 9             | Evaluating our best model                    | Let's make some predictions on random images and evaluate our best model.                                                                                   |\n",
        "| 10            | Making a confusion matrix                    | A confusion matrix is a great way to evaluate a classification model, let's see how we can make one.                                                        |\n",
        "| 11            | Saving and loading the best performing model | Since we might want to use our model for later, let's save it and make sure it loads back in correctly.                                                     |\n"
      ],
      "metadata": {
        "id": "yOy4HdYWrGUF"
      }
    },
    {
      "cell_type": "markdown",
      "source": [
        "| **PyTorch Module**            | **What does it do?**                                                                                                                                                                |\n",
        "| ----------------------------- | ----------------------------------------------------------------------------------------------------------------------------------------------------------------------------------- |\n",
        "| `torchvision`                 | Contains datasets, model architectures, and image transformations often used for computer vision problems.                                                                          |\n",
        "| `torchvision.datasets`        | Provides many example computer vision datasets for tasks like image classification, object detection, image captioning, video classification, and base classes for custom datasets. |\n",
        "| `torchvision.models`          | Contains well-performing and commonly used computer vision model architectures implemented in PyTorch for direct use in your problems.                                              |\n",
        "| `torchvision.transforms`      | Provides common image transformations needed to process, convert to tensors, normalize, and augment images before feeding them into a model.                                        |\n",
        "| `torch.utils.data.Dataset`    | Base dataset class for PyTorch, useful for creating custom datasets by subclassing it.                                                                                              |\n",
        "| `torch.utils.data.DataLoader` | Creates a Python iterable over a dataset (created with `torch.utils.data.Dataset`) enabling batching, shuffling, and parallel data loading.                                         |\n",
        "| `torch.nn`            | Provides layers, activations, losses, and neural network building blocks to construct models.                                   |\n",
        "| `torch.optim`         | Contains optimization algorithms (SGD, Adam, RMSProp) to update model parameters during training.                               |\n",
        "| `torch.nn.functional` | Provides functions for operations like activation functions, loss functions, and other computations used inside forward passes. |\n",
        "| `torch.cuda`          | Enables CUDA GPU operations for faster model training and inference.                                                            |\n",
        "| `torch.autograd`      | Provides automatic differentiation for building and training neural networks (computes gradients automatically).                |\n"
      ],
      "metadata": {
        "id": "sWvka_M6tRPV"
      }
    },
    {
      "cell_type": "code",
      "source": [
        "# Import PyTorch\n",
        "import torch\n",
        "from torch import nn\n",
        "\n",
        "# import torch vision\n",
        "import torchvision\n",
        "from torchvision import datasets\n",
        "from torchvision import transforms\n",
        "from trochvision.transforms import ToTensor\n",
        "\n",
        "# import Matplotlib for visualization\n",
        "import matplotlib.pyplot as plt\n",
        "\n"
      ],
      "metadata": {
        "id": "3f9TFz1Nt1-b"
      },
      "execution_count": null,
      "outputs": []
    }
  ]
}