{
  "nbformat": 4,
  "nbformat_minor": 0,
  "metadata": {
    "colab": {
      "provenance": [],
      "authorship_tag": "ABX9TyNAiwEwYEGwSZK1qVkKjJYt",
      "include_colab_link": true
    },
    "kernelspec": {
      "name": "python3",
      "display_name": "Python 3"
    },
    "language_info": {
      "name": "python"
    }
  },
  "cells": [
    {
      "cell_type": "markdown",
      "metadata": {
        "id": "view-in-github",
        "colab_type": "text"
      },
      "source": [
        "<a href=\"https://colab.research.google.com/github/Sovit1056/Pytorch_practice/blob/main/01_pyotrch_workflow_exersice.ipynb\" target=\"_parent\"><img src=\"https://colab.research.google.com/assets/colab-badge.svg\" alt=\"Open In Colab\"/></a>"
      ]
    },
    {
      "cell_type": "markdown",
      "source": [
        "#### Lets start coding: Setting weight=0.3 and bias=0.9 there should be at least 100 datapoints total."
      ],
      "metadata": {
        "id": "pc-lvyQDeZEl"
      }
    },
    {
      "cell_type": "code",
      "source": [
        "import numpy as np\n",
        "import torch\n",
        "import torch.nn as nn\n",
        "import matplotlib.pyplot as plt\n"
      ],
      "metadata": {
        "id": "v9OZowMVfg4n"
      },
      "execution_count": 268,
      "outputs": []
    },
    {
      "cell_type": "markdown",
      "source": [
        "#### Creating and Splitting the data"
      ],
      "metadata": {
        "id": "ZdYit37pgANg"
      }
    },
    {
      "cell_type": "code",
      "source": [
        "weight=0.3\n",
        "bais= 0.9\n",
        "\n",
        "X = torch.arange(0 , 50, 0.5).unsqueeze(dim=1)  ### unsqueezed is very important\n",
        "y = weight * X + bais\n",
        "\n",
        "X[:5],y[:5]"
      ],
      "metadata": {
        "colab": {
          "base_uri": "https://localhost:8080/"
        },
        "id": "b6A-MGEagaRR",
        "outputId": "fe152c45-0900-48e7-de9a-af9c54a9d07b"
      },
      "execution_count": 269,
      "outputs": [
        {
          "output_type": "execute_result",
          "data": {
            "text/plain": [
              "(tensor([[0.0000],\n",
              "         [0.5000],\n",
              "         [1.0000],\n",
              "         [1.5000],\n",
              "         [2.0000]]),\n",
              " tensor([[0.9000],\n",
              "         [1.0500],\n",
              "         [1.2000],\n",
              "         [1.3500],\n",
              "         [1.5000]]))"
            ]
          },
          "metadata": {},
          "execution_count": 269
        }
      ]
    },
    {
      "cell_type": "code",
      "source": [
        "# spliting the data\n",
        "train_split = int(0.8*len(X))\n",
        "X_train = X[:train_split]\n",
        "y_train = y[: train_split]\n",
        "X_test = X[train_split:]\n",
        "y_test = y[train_split:]\n",
        "\n",
        "X_train[:5],y_train[:5],X_test[:5],y_test[:5]"
      ],
      "metadata": {
        "colab": {
          "base_uri": "https://localhost:8080/"
        },
        "id": "w1LeKIxCiD0d",
        "outputId": "01169027-3b01-47c2-9924-5f2b40916c09"
      },
      "execution_count": 270,
      "outputs": [
        {
          "output_type": "execute_result",
          "data": {
            "text/plain": [
              "(tensor([[0.0000],\n",
              "         [0.5000],\n",
              "         [1.0000],\n",
              "         [1.5000],\n",
              "         [2.0000]]),\n",
              " tensor([[0.9000],\n",
              "         [1.0500],\n",
              "         [1.2000],\n",
              "         [1.3500],\n",
              "         [1.5000]]),\n",
              " tensor([[40.0000],\n",
              "         [40.5000],\n",
              "         [41.0000],\n",
              "         [41.5000],\n",
              "         [42.0000]]),\n",
              " tensor([[12.9000],\n",
              "         [13.0500],\n",
              "         [13.2000],\n",
              "         [13.3500],\n",
              "         [13.5000]]))"
            ]
          },
          "metadata": {},
          "execution_count": 270
        }
      ]
    },
    {
      "cell_type": "code",
      "source": [
        "# Ploting the data now for visualization or deine the function for plotting and visualization\n",
        "\n",
        "def plot_data(train_data = X_train,\n",
        "              train_lables = y_train,\n",
        "              test_data = X_test,\n",
        "              test_lables = y_test,\n",
        "              prediction = None):\n",
        "\n",
        "  plt.figure(figsize=(10,7))\n",
        "  plt.scatter(train_data,train_lables,c=\"b\", s= 4, label = \"Training Data\")\n",
        "  plt.scatter(test_data,test_lables,c=\"g\", s= 4, label = \"Test Data\")\n",
        "  if prediction != None :\n",
        "    plt.scatter(test_data,prediction,c=\"r\", s= 4, label = \"Prediction Data\")\n",
        "  plt.legend(prop={\"size\":14})\n",
        "\n",
        "plot_data();"
      ],
      "metadata": {
        "colab": {
          "base_uri": "https://localhost:8080/",
          "height": 599
        },
        "id": "xxoUV_elkV8u",
        "outputId": "df8d0d7e-fc30-4b84-fd40-c9a1f11ec0ba"
      },
      "execution_count": 271,
      "outputs": [
        {
          "output_type": "display_data",
          "data": {
            "text/plain": [
              "<Figure size 1000x700 with 1 Axes>"
            ],
            "image/png": "[encoded data removed]"
          },
          "metadata": {}
        }
      ]
    },
    {
      "cell_type": "code",
      "source": [
        "# At first lets create the class\n",
        "\n",
        "class linear_analysis(nn.Module):\n",
        "\n",
        "  def __init__(self):\n",
        "    super().__init__()\n",
        "\n",
        "    self.linear_layer= nn.Linear(in_features=1,\n",
        "                                 out_features=1)\n",
        "\n",
        "  def forward(self,x : torch.Tensor) -> torch.Tensor :\n",
        "    return self.linear_layer(x)"
      ],
      "metadata": {
        "id": "wKbf19E9mXtF"
      },
      "execution_count": 272,
      "outputs": []
    },
    {
      "cell_type": "code",
      "source": [
        "# deine the random weight and bais\n",
        "# create the model\n",
        "torch.manual_seed(42)\n",
        "\n",
        "model_exe = linear_analysis()\n",
        "\n",
        "print(model_exe.state_dict())"
      ],
      "metadata": {
        "colab": {
          "base_uri": "https://localhost:8080/"
        },
        "id": "ffDEnz1Co22h",
        "outputId": "c8e44491-a3a5-45a3-d2df-52d1b9fe51a0"
      },
      "execution_count": 273,
      "outputs": [
        {
          "output_type": "stream",
          "name": "stdout",
          "text": [
            "OrderedDict([('linear_layer.weight', tensor([[0.7645]])), ('linear_layer.bias', tensor([0.8300]))])\n"
          ]
        }
      ]
    },
    {
      "cell_type": "code",
      "source": [
        "# Make prediction with model\n",
        "\n",
        "with torch.inference_mode():\n",
        "  y_preds = model_exe(X_test)\n",
        "\n",
        "plot_data(prediction=y_preds)"
      ],
      "metadata": {
        "colab": {
          "base_uri": "https://localhost:8080/",
          "height": 599
        },
        "id": "CXgv-QGQtqWQ",
        "outputId": "39176941-91ce-4426-8428-0c081202cc27"
      },
      "execution_count": 274,
      "outputs": [
        {
          "output_type": "display_data",
          "data": {
            "text/plain": [
              "<Figure size 1000x700 with 1 Axes>"
            ],
            "image/png": "[encoded data removed]"
          },
          "metadata": {}
        }
      ]
    },
    {
      "cell_type": "code",
      "source": [
        "# define the loss function and optimizer\n",
        "loss_fn = nn.L1Loss() # same as MAE\n",
        "\n",
        "optimizer =  torch.optim.SGD(params = model_exe.parameters(),\n",
        "                             lr=0.001)\n"
      ],
      "metadata": {
        "id": "U0WF7sVkr3Ke"
      },
      "execution_count": 275,
      "outputs": []
    },
    {
      "cell_type": "code",
      "source": [
        "# Now lets train the loop\n",
        "\n",
        "torch.manual_seed(42)\n",
        "\n",
        "epochs = 300\n",
        "\n",
        "for epoch in range(epochs):\n",
        "  model_exe.train()\n",
        "\n",
        "   # 1. Forward pass\n",
        "  y_pred = model_exe(X_train)\n",
        "\n",
        "  # 2. Loss\n",
        "  loss = loss_fn(y_pred, y_train)\n",
        "\n",
        "  # 3. Optimizer zero grad\n",
        "  optimizer.zero_grad()\n",
        "\n",
        "  # 4. backpropagation\n",
        "  loss.backward()\n",
        "\n",
        "  # 5. optimizer step\n",
        "  optimizer.step()\n",
        "\n",
        "  ### Testing\n",
        "  model_exe.eval()\n",
        "  with torch.inference_mode():\n",
        "    test_pred = model_exe(X_test)\n",
        "\n",
        "    #  Loss\n",
        "    test_loss = loss_fn(test_pred, y_test)\n",
        "\n",
        "  if epoch % 100 == 0:\n",
        "    print(f\"Epoch: {epoch} | Loss: {loss} | Test loss: {test_loss}\")\n",
        "    print(model_exe.state_dict())\n",
        "\n"
      ],
      "metadata": {
        "colab": {
          "base_uri": "https://localhost:8080/"
        },
        "id": "p_x3AVvxsnVr",
        "outputId": "0648c35a-0949-4e62-ffd9-e05518a90955"
      },
      "execution_count": 276,
      "outputs": [
        {
          "output_type": "stream",
          "name": "stdout",
          "text": [
            "Epoch: 0 | Loss: 9.106392860412598 | Test loss: 19.83332061767578\n",
            "OrderedDict([('linear_layer.weight', tensor([[0.7448]])), ('linear_layer.bias', tensor([0.8290]))])\n",
            "Epoch: 100 | Loss: 0.15381193161010742 | Test loss: 0.6419564485549927\n",
            "OrderedDict([('linear_layer.weight', tensor([[0.3162]])), ('linear_layer.bias', tensor([0.8175]))])\n",
            "Epoch: 200 | Loss: 0.03540382534265518 | Test loss: 0.766048014163971\n",
            "OrderedDict([('linear_layer.weight', tensor([[0.3187]])), ('linear_layer.bias', tensor([0.8281]))])\n"
          ]
        }
      ]
    },
    {
      "cell_type": "code",
      "source": [
        "\n",
        "print(model_exe.state_dict())\n",
        "print()\n",
        "plot_data(prediction = test_pred)\n"
      ],
      "metadata": {
        "colab": {
          "base_uri": "https://localhost:8080/",
          "height": 634
        },
        "id": "o4KGYjYBw14-",
        "outputId": "8df0b130-4949-4730-fcdc-4b7091573bb0"
      },
      "execution_count": 277,
      "outputs": [
        {
          "output_type": "stream",
          "name": "stdout",
          "text": [
            "OrderedDict([('linear_layer.weight', tensor([[0.3007]])), ('linear_layer.bias', tensor([0.8366]))])\n",
            "\n"
          ]
        },
        {
          "output_type": "display_data",
          "data": {
            "text/plain": [
              "<Figure size 1000x700 with 1 Axes>"
            ],
            "image/png": "[encoded data removed]"
          },
          "metadata": {}
        }
      ]
    },
    {
      "cell_type": "code",
      "source": [
        "# Saving and loading\n",
        "from pathlib import Path\n",
        "\n",
        "\n",
        "Model_path = Path(\"models\")\n",
        "Model_path.mkdir(parents=True, exist_ok=True)\n",
        "\n",
        "Model_Name= \"01_pytorch test saving.pth\"\n",
        "Model_Save_path = Model_path / Model_Name\n",
        "\n",
        "print(f\"Saving model to: {Model_Save_path}\")\n",
        "torch.save(obj=model_exe.state_dict(),\n",
        "           f=Model_Save_path)\n",
        "\n"
      ],
      "metadata": {
        "colab": {
          "base_uri": "https://localhost:8080/"
        },
        "id": "ywzIGYggzts3",
        "outputId": "54c8a76b-bdc2-46b4-d966-d6d20c334fe2"
      },
      "execution_count": 278,
      "outputs": [
        {
          "output_type": "stream",
          "name": "stdout",
          "text": [
            "Saving model to: models/01_pytorch test saving.pth\n"
          ]
        }
      ]
    },
    {
      "cell_type": "code",
      "source": [
        "loaded_model_exe = linear_analysis()\n",
        "print(list(loaded_model_exe.parameters()))\n",
        "\n",
        "loaded_model_exe.load_state_dict(torch.load(f=Model_Save_path))\n",
        "print(\" \\nLoaded paramters:\\n\")\n",
        "list(loaded_model_exe.parameters())"
      ],
      "metadata": {
        "colab": {
          "base_uri": "https://localhost:8080/"
        },
        "id": "MlJaUJDhz-JL",
        "outputId": "33fd8b19-149f-4973-868f-a36bb3431ac1"
      },
      "execution_count": 279,
      "outputs": [
        {
          "output_type": "stream",
          "name": "stdout",
          "text": [
            "[Parameter containing:\n",
            "tensor([[0.7645]], requires_grad=True), Parameter containing:\n",
            "tensor([0.8300], requires_grad=True)]\n",
            " \n",
            "Loaded paramters:\n",
            "\n"
          ]
        },
        {
          "output_type": "execute_result",
          "data": {
            "text/plain": [
              "[Parameter containing:\n",
              " tensor([[0.3007]], requires_grad=True),\n",
              " Parameter containing:\n",
              " tensor([0.8366], requires_grad=True)]"
            ]
          },
          "metadata": {},
          "execution_count": 279
        }
      ]
    },
    {
      "cell_type": "code",
      "source": [
        "loaded_model_exe.eval()\n",
        "with torch.inference_mode():\n",
        "  loaded_model_preds = loaded_model_exe(X_test)\n",
        "  print(loaded_model_preds)\n"
      ],
      "metadata": {
        "colab": {
          "base_uri": "https://localhost:8080/"
        },
        "id": "P6rxmjrz0LzP",
        "outputId": "f641e022-7eca-43be-de22-622b75db3e35"
      },
      "execution_count": 280,
      "outputs": [
        {
          "output_type": "stream",
          "name": "stdout",
          "text": [
            "tensor([[12.8661],\n",
            "        [13.0165],\n",
            "        [13.1669],\n",
            "        [13.3172],\n",
            "        [13.4676],\n",
            "        [13.6180],\n",
            "        [13.7683],\n",
            "        [13.9187],\n",
            "        [14.0691],\n",
            "        [14.2194],\n",
            "        [14.3698],\n",
            "        [14.5202],\n",
            "        [14.6705],\n",
            "        [14.8209],\n",
            "        [14.9713],\n",
            "        [15.1217],\n",
            "        [15.2720],\n",
            "        [15.4224],\n",
            "        [15.5728],\n",
            "        [15.7231]])\n"
          ]
        }
      ]
    },
    {
      "cell_type": "code",
      "source": [
        "# Comparing\n",
        "test_pred == loaded_model_preds"
      ],
      "metadata": {
        "colab": {
          "base_uri": "https://localhost:8080/"
        },
        "id": "xTyYqbq-0Wqd",
        "outputId": "45e24505-39f7-4042-bb71-100cb71095c5"
      },
      "execution_count": 281,
      "outputs": [
        {
          "output_type": "execute_result",
          "data": {
            "text/plain": [
              "tensor([[True],\n",
              "        [True],\n",
              "        [True],\n",
              "        [True],\n",
              "        [True],\n",
              "        [True],\n",
              "        [True],\n",
              "        [True],\n",
              "        [True],\n",
              "        [True],\n",
              "        [True],\n",
              "        [True],\n",
              "        [True],\n",
              "        [True],\n",
              "        [True],\n",
              "        [True],\n",
              "        [True],\n",
              "        [True],\n",
              "        [True],\n",
              "        [True]])"
            ]
          },
          "metadata": {},
          "execution_count": 281
        }
      ]
    }
  ]
}